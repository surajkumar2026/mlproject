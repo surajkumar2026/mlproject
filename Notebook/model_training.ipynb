{
  "cells": [
    {
      "cell_type": "code",
      "execution_count": 3,
      "metadata": {},
      "outputs": [
        {
          "name": "stdout",
          "output_type": "stream",
          "text": [
            "hii\n"
          ]
        }
      ],
      "source": [
        "print(\"hii\")"
      ]
    },
    {
      "cell_type": "code",
      "execution_count": 4,
      "metadata": {
        "id": "FZ-aJzpXa5DB"
      },
      "outputs": [],
      "source": [
        "#install important labirires\n",
        "import numpy as np\n",
        "import pandas as pd\n",
        "import matplotlib.pyplot as plt\n",
        "import seaborn as sns\n"
      ]
    },
    {
      "cell_type": "code",
      "execution_count": 5,
      "metadata": {
        "id": "q9rAziD3cLmg"
      },
      "outputs": [],
      "source": [
        "#install KNR DTR RFR Adaboost R SVR LR Ridge Lasso\n",
        "from sklearn.neighbors import KNeighborsRegressor\n",
        "from sklearn.tree import DecisionTreeRegressor\n",
        "from sklearn.ensemble import RandomForestRegressor, AdaBoostRegressor\n",
        "from sklearn.svm import SVR\n",
        "from sklearn.linear_model import LinearRegression, Ridge, Lasso\n"
      ]
    },
    {
      "cell_type": "code",
      "execution_count": null,
      "metadata": {
        "colab": {
          "base_uri": "https://localhost:8080/"
        },
        "id": "E0lIqb4dc7Sk",
        "outputId": "fb114d52-0d88-4871-cf54-cc0b9ece4bdf"
      },
      "outputs": [
        {
          "name": "stdout",
          "output_type": "stream",
          "text": [
            "^C\n"
          ]
        },
        {
          "name": "stdout",
          "output_type": "stream",
          "text": [
            "Collecting catboost\n",
            "  Using cached catboost-1.2.7.tar.gz (71.5 MB)\n",
            "  Installing build dependencies: started\n",
            "  Installing build dependencies: finished with status 'error'\n"
          ]
        },
        {
          "name": "stderr",
          "output_type": "stream",
          "text": [
            "  error: subprocess-exited-with-error\n",
            "  \n",
            "  × pip subprocess to install build dependencies did not run successfully.\n",
            "  │ exit code: 1\n",
            "  ╰─> [133 lines of output]\n",
            "      Collecting setuptools>=64.0\n",
            "        Using cached setuptools-75.8.0-py3-none-any.whl.metadata (6.7 kB)\n",
            "      Collecting wheel\n",
            "        Using cached wheel-0.45.1-py3-none-any.whl.metadata (2.3 kB)\n",
            "      Collecting jupyterlab==3.*,>=3.0.6\n",
            "        Using cached jupyterlab-3.6.8-py3-none-any.whl.metadata (12 kB)\n",
            "      Collecting conan~=1.62\n",
            "        Using cached conan-1.66.0.tar.gz (789 kB)\n",
            "        Preparing metadata (setup.py): started\n",
            "        Preparing metadata (setup.py): finished with status 'done'\n",
            "      Collecting ipython (from jupyterlab==3.*,>=3.0.6)\n",
            "        Using cached ipython-8.32.0-py3-none-any.whl.metadata (5.0 kB)\n",
            "      Collecting packaging (from jupyterlab==3.*,>=3.0.6)\n",
            "        Using cached packaging-24.2-py3-none-any.whl.metadata (3.2 kB)\n",
            "      Collecting tornado>=6.1.0 (from jupyterlab==3.*,>=3.0.6)\n",
            "        Using cached tornado-6.4.2-cp38-abi3-win_amd64.whl.metadata (2.6 kB)\n",
            "      Collecting jupyter-core (from jupyterlab==3.*,>=3.0.6)\n",
            "        Using cached jupyter_core-5.7.2-py3-none-any.whl.metadata (3.4 kB)\n",
            "      Collecting jupyterlab-server~=2.19 (from jupyterlab==3.*,>=3.0.6)\n",
            "        Using cached jupyterlab_server-2.27.3-py3-none-any.whl.metadata (5.9 kB)\n",
            "      Collecting jupyter-server<3,>=1.16.0 (from jupyterlab==3.*,>=3.0.6)\n",
            "        Using cached jupyter_server-2.15.0-py3-none-any.whl.metadata (8.4 kB)\n",
            "      Collecting jupyter-ydoc~=0.2.4 (from jupyterlab==3.*,>=3.0.6)\n",
            "        Using cached jupyter_ydoc-0.2.5-py3-none-any.whl.metadata (2.2 kB)\n",
            "      Collecting jupyter-server-ydoc~=0.8.0 (from jupyterlab==3.*,>=3.0.6)\n",
            "        Using cached jupyter_server_ydoc-0.8.0-py3-none-any.whl.metadata (5.3 kB)\n",
            "      Collecting nbclassic (from jupyterlab==3.*,>=3.0.6)\n",
            "        Using cached nbclassic-1.2.0-py3-none-any.whl.metadata (3.6 kB)\n",
            "      Collecting notebook<7 (from jupyterlab==3.*,>=3.0.6)\n",
            "        Using cached notebook-6.5.7-py3-none-any.whl.metadata (2.5 kB)\n",
            "      Collecting jinja2>=2.1 (from jupyterlab==3.*,>=3.0.6)\n",
            "        Using cached jinja2-3.1.5-py3-none-any.whl.metadata (2.6 kB)\n",
            "      Collecting requests<3.0.0,>=2.25 (from conan~=1.62)\n",
            "        Using cached requests-2.32.3-py3-none-any.whl.metadata (4.6 kB)\n",
            "      Collecting urllib3<1.27,>=1.26.6 (from conan~=1.62)\n",
            "        Using cached urllib3-1.26.20-py2.py3-none-any.whl.metadata (50 kB)\n",
            "      Collecting colorama<0.5.0,>=0.3.3 (from conan~=1.62)\n",
            "        Using cached colorama-0.4.6-py2.py3-none-any.whl.metadata (17 kB)\n",
            "      Collecting PyYAML<6.1,>=3.11 (from conan~=1.62)\n",
            "        Using cached PyYAML-6.0.2-cp313-cp313-win_amd64.whl.metadata (2.1 kB)\n",
            "      Collecting patch-ng<1.18,>=1.17.4 (from conan~=1.62)\n",
            "        Using cached patch-ng-1.17.4.tar.gz (17 kB)\n",
            "        Preparing metadata (setup.py): started\n",
            "        Preparing metadata (setup.py): finished with status 'done'\n",
            "      Collecting fasteners>=0.14.1 (from conan~=1.62)\n",
            "        Using cached fasteners-0.19-py3-none-any.whl.metadata (4.9 kB)\n",
            "      Collecting six<=1.16.0,>=1.10.0 (from conan~=1.62)\n",
            "        Using cached six-1.16.0-py2.py3-none-any.whl.metadata (1.8 kB)\n",
            "      Collecting node-semver==0.6.1 (from conan~=1.62)\n",
            "        Using cached node_semver-0.6.1-py3-none-any.whl.metadata (2.1 kB)\n",
            "      Collecting pygments<3.0,>=2.0 (from conan~=1.62)\n",
            "        Using cached pygments-2.19.1-py3-none-any.whl.metadata (2.5 kB)\n",
            "      Collecting tqdm<5,>=4.28.1 (from conan~=1.62)\n",
            "        Using cached tqdm-4.67.1-py3-none-any.whl.metadata (57 kB)\n",
            "      Collecting python-dateutil<3,>=2.7.0 (from conan~=1.62)\n",
            "        Using cached python_dateutil-2.9.0.post0-py2.py3-none-any.whl.metadata (8.4 kB)\n",
            "      Collecting bottle<0.13,>=0.12.8 (from conan~=1.62)\n",
            "        Using cached bottle-0.12.25-py3-none-any.whl.metadata (1.8 kB)\n",
            "      Collecting pluginbase>=0.5 (from conan~=1.62)\n",
            "        Using cached pluginbase-1.0.1.tar.gz (43 kB)\n",
            "        Preparing metadata (setup.py): started\n",
            "        Preparing metadata (setup.py): finished with status 'done'\n",
            "      Collecting PyJWT<3.0.0,>=2.4.0 (from conan~=1.62)\n",
            "        Using cached PyJWT-2.10.1-py3-none-any.whl.metadata (4.0 kB)\n",
            "      Collecting MarkupSafe>=2.0 (from jinja2>=2.1->jupyterlab==3.*,>=3.0.6)\n",
            "        Using cached MarkupSafe-3.0.2-cp313-cp313-win_amd64.whl.metadata (4.1 kB)\n",
            "      Collecting anyio>=3.1.0 (from jupyter-server<3,>=1.16.0->jupyterlab==3.*,>=3.0.6)\n",
            "        Using cached anyio-4.8.0-py3-none-any.whl.metadata (4.6 kB)\n",
            "      Collecting argon2-cffi>=21.1 (from jupyter-server<3,>=1.16.0->jupyterlab==3.*,>=3.0.6)\n",
            "        Using cached argon2_cffi-23.1.0-py3-none-any.whl.metadata (5.2 kB)\n",
            "      Collecting jupyter-client>=7.4.4 (from jupyter-server<3,>=1.16.0->jupyterlab==3.*,>=3.0.6)\n",
            "        Using cached jupyter_client-8.6.3-py3-none-any.whl.metadata (8.3 kB)\n",
            "      Collecting jupyter-events>=0.11.0 (from jupyter-server<3,>=1.16.0->jupyterlab==3.*,>=3.0.6)\n",
            "        Using cached jupyter_events-0.12.0-py3-none-any.whl.metadata (5.8 kB)\n",
            "      Collecting jupyter-server-terminals>=0.4.4 (from jupyter-server<3,>=1.16.0->jupyterlab==3.*,>=3.0.6)\n",
            "        Using cached jupyter_server_terminals-0.5.3-py3-none-any.whl.metadata (5.6 kB)\n",
            "      Collecting nbconvert>=6.4.4 (from jupyter-server<3,>=1.16.0->jupyterlab==3.*,>=3.0.6)\n",
            "        Using cached nbconvert-7.16.6-py3-none-any.whl.metadata (8.5 kB)\n",
            "      Collecting nbformat>=5.3.0 (from jupyter-server<3,>=1.16.0->jupyterlab==3.*,>=3.0.6)\n",
            "        Using cached nbformat-5.10.4-py3-none-any.whl.metadata (3.6 kB)\n",
            "      Collecting overrides>=5.0 (from jupyter-server<3,>=1.16.0->jupyterlab==3.*,>=3.0.6)\n",
            "        Using cached overrides-7.7.0-py3-none-any.whl.metadata (5.8 kB)\n",
            "      Collecting prometheus-client>=0.9 (from jupyter-server<3,>=1.16.0->jupyterlab==3.*,>=3.0.6)\n",
            "        Using cached prometheus_client-0.21.1-py3-none-any.whl.metadata (1.8 kB)\n",
            "      Collecting pywinpty>=2.0.1 (from jupyter-server<3,>=1.16.0->jupyterlab==3.*,>=3.0.6)\n",
            "        Using cached pywinpty-2.0.15-cp313-cp313-win_amd64.whl.metadata (5.2 kB)\n",
            "      Collecting pyzmq>=24 (from jupyter-server<3,>=1.16.0->jupyterlab==3.*,>=3.0.6)\n",
            "        Using cached pyzmq-26.2.1-cp313-cp313-win_amd64.whl.metadata (6.2 kB)\n",
            "      Collecting send2trash>=1.8.2 (from jupyter-server<3,>=1.16.0->jupyterlab==3.*,>=3.0.6)\n",
            "        Using cached Send2Trash-1.8.3-py3-none-any.whl.metadata (4.0 kB)\n",
            "      Collecting terminado>=0.8.3 (from jupyter-server<3,>=1.16.0->jupyterlab==3.*,>=3.0.6)\n",
            "        Using cached terminado-0.18.1-py3-none-any.whl.metadata (5.8 kB)\n",
            "      Collecting traitlets>=5.6.0 (from jupyter-server<3,>=1.16.0->jupyterlab==3.*,>=3.0.6)\n",
            "        Using cached traitlets-5.14.3-py3-none-any.whl.metadata (10 kB)\n",
            "      Collecting websocket-client>=1.7 (from jupyter-server<3,>=1.16.0->jupyterlab==3.*,>=3.0.6)\n",
            "        Using cached websocket_client-1.8.0-py3-none-any.whl.metadata (8.0 kB)\n",
            "      Collecting platformdirs>=2.5 (from jupyter-core->jupyterlab==3.*,>=3.0.6)\n",
            "        Using cached platformdirs-4.3.6-py3-none-any.whl.metadata (11 kB)\n",
            "      Collecting pywin32>=300 (from jupyter-core->jupyterlab==3.*,>=3.0.6)\n",
            "        Using cached pywin32-308-cp313-cp313-win_amd64.whl.metadata (8.3 kB)\n",
            "      Collecting jupyter-server-fileid<1,>=0.6.0 (from jupyter-server-ydoc~=0.8.0->jupyterlab==3.*,>=3.0.6)\n",
            "        Using cached jupyter_server_fileid-0.9.3-py3-none-any.whl.metadata (4.7 kB)\n",
            "      Collecting ypy-websocket<0.9.0,>=0.8.2 (from jupyter-server-ydoc~=0.8.0->jupyterlab==3.*,>=3.0.6)\n",
            "        Using cached ypy_websocket-0.8.4-py3-none-any.whl.metadata (2.5 kB)\n",
            "      Collecting y-py<0.7.0,>=0.6.0 (from jupyter-ydoc~=0.2.4->jupyterlab==3.*,>=3.0.6)\n",
            "        Using cached y_py-0.6.2.tar.gz (53 kB)\n",
            "        Installing build dependencies: started\n",
            "        Installing build dependencies: finished with status 'done'\n",
            "        Getting requirements to build wheel: started\n",
            "        Getting requirements to build wheel: finished with status 'done'\n",
            "        Preparing metadata (pyproject.toml): started\n",
            "        Preparing metadata (pyproject.toml): finished with status 'error'\n",
            "        error: subprocess-exited-with-error\n",
            "      \n",
            "        Ã— Preparing metadata (pyproject.toml) did not run successfully.\n",
            "        â”‚ exit code: 1\n",
            "        â•°â”€> [6 lines of output]\n",
            "            Checking for Rust toolchain....\n",
            "      \n",
            "            Cargo, the Rust package manager, is not installed or is not on PATH.\n",
            "            This package requires Rust and Cargo to compile extensions. Install it through\n",
            "            the system's package manager or via https://rustup.rs/\n",
            "      \n",
            "            [end of output]\n",
            "      \n",
            "        note: This error originates from a subprocess, and is likely not a problem with pip.\n",
            "      error: metadata-generation-failed\n",
            "      \n",
            "      Ã— Encountered error while generating package metadata.\n",
            "      â•°â”€> See above for output.\n",
            "      \n",
            "      note: This is an issue with the package mentioned above, not pip.\n",
            "      hint: See above for details.\n",
            "      [end of output]\n",
            "  \n",
            "  note: This error originates from a subprocess, and is likely not a problem with pip.\n",
            "error: subprocess-exited-with-error\n",
            "\n",
            "× pip subprocess to install build dependencies did not run successfully.\n",
            "│ exit code: 1\n",
            "╰─> See above for output.\n",
            "\n",
            "note: This error originates from a subprocess, and is likely not a problem with pip.\n"
          ]
        }
      ],
      "source": [
        "#install catboost\n",
        "!pip install catboost"
      ]
    },
    {
      "cell_type": "code",
      "execution_count": null,
      "metadata": {
        "id": "RIFzKtOwcjMK"
      },
      "outputs": [],
      "source": [
        "#install randomized searchcv cat boost regression XGR Regression\n",
        "from sklearn.model_selection import RandomizedSearchCV\n",
        "from catboost import CatBoostRegressor\n",
        "from xgboost import XGBRegressor"
      ]
    },
    {
      "cell_type": "code",
      "execution_count": 7,
      "metadata": {
        "id": "CEtVVcqqcwGX"
      },
      "outputs": [],
      "source": [
        "import warnings"
      ]
    },
    {
      "cell_type": "code",
      "execution_count": 8,
      "metadata": {
        "id": "6rAsflqIdRvM"
      },
      "outputs": [],
      "source": [
        "df= pd.read_csv('Data/StudentsPerformance.csv')"
      ]
    },
    {
      "cell_type": "code",
      "execution_count": 9,
      "metadata": {
        "colab": {
          "base_uri": "https://localhost:8080/",
          "height": 527
        },
        "id": "OgwnReCfeXK6",
        "outputId": "2f9aed12-f509-4343-e528-74cc956dd7c3"
      },
      "outputs": [
        {
          "data": {
            "text/html": [
              "<div>\n",
              "<style scoped>\n",
              "    .dataframe tbody tr th:only-of-type {\n",
              "        vertical-align: middle;\n",
              "    }\n",
              "\n",
              "    .dataframe tbody tr th {\n",
              "        vertical-align: top;\n",
              "    }\n",
              "\n",
              "    .dataframe thead th {\n",
              "        text-align: right;\n",
              "    }\n",
              "</style>\n",
              "<table border=\"1\" class=\"dataframe\">\n",
              "  <thead>\n",
              "    <tr style=\"text-align: right;\">\n",
              "      <th></th>\n",
              "      <th>gender</th>\n",
              "      <th>race/ethnicity</th>\n",
              "      <th>parental level of education</th>\n",
              "      <th>lunch</th>\n",
              "      <th>test preparation course</th>\n",
              "      <th>math score</th>\n",
              "      <th>reading score</th>\n",
              "      <th>writing score</th>\n",
              "    </tr>\n",
              "  </thead>\n",
              "  <tbody>\n",
              "    <tr>\n",
              "      <th>0</th>\n",
              "      <td>female</td>\n",
              "      <td>group B</td>\n",
              "      <td>bachelor's degree</td>\n",
              "      <td>standard</td>\n",
              "      <td>none</td>\n",
              "      <td>72</td>\n",
              "      <td>72</td>\n",
              "      <td>74</td>\n",
              "    </tr>\n",
              "    <tr>\n",
              "      <th>1</th>\n",
              "      <td>female</td>\n",
              "      <td>group C</td>\n",
              "      <td>some college</td>\n",
              "      <td>standard</td>\n",
              "      <td>completed</td>\n",
              "      <td>69</td>\n",
              "      <td>90</td>\n",
              "      <td>88</td>\n",
              "    </tr>\n",
              "    <tr>\n",
              "      <th>2</th>\n",
              "      <td>female</td>\n",
              "      <td>group B</td>\n",
              "      <td>master's degree</td>\n",
              "      <td>standard</td>\n",
              "      <td>none</td>\n",
              "      <td>90</td>\n",
              "      <td>95</td>\n",
              "      <td>93</td>\n",
              "    </tr>\n",
              "    <tr>\n",
              "      <th>3</th>\n",
              "      <td>male</td>\n",
              "      <td>group A</td>\n",
              "      <td>associate's degree</td>\n",
              "      <td>free/reduced</td>\n",
              "      <td>none</td>\n",
              "      <td>47</td>\n",
              "      <td>57</td>\n",
              "      <td>44</td>\n",
              "    </tr>\n",
              "    <tr>\n",
              "      <th>4</th>\n",
              "      <td>male</td>\n",
              "      <td>group C</td>\n",
              "      <td>some college</td>\n",
              "      <td>standard</td>\n",
              "      <td>none</td>\n",
              "      <td>76</td>\n",
              "      <td>78</td>\n",
              "      <td>75</td>\n",
              "    </tr>\n",
              "    <tr>\n",
              "      <th>...</th>\n",
              "      <td>...</td>\n",
              "      <td>...</td>\n",
              "      <td>...</td>\n",
              "      <td>...</td>\n",
              "      <td>...</td>\n",
              "      <td>...</td>\n",
              "      <td>...</td>\n",
              "      <td>...</td>\n",
              "    </tr>\n",
              "    <tr>\n",
              "      <th>995</th>\n",
              "      <td>female</td>\n",
              "      <td>group E</td>\n",
              "      <td>master's degree</td>\n",
              "      <td>standard</td>\n",
              "      <td>completed</td>\n",
              "      <td>88</td>\n",
              "      <td>99</td>\n",
              "      <td>95</td>\n",
              "    </tr>\n",
              "    <tr>\n",
              "      <th>996</th>\n",
              "      <td>male</td>\n",
              "      <td>group C</td>\n",
              "      <td>high school</td>\n",
              "      <td>free/reduced</td>\n",
              "      <td>none</td>\n",
              "      <td>62</td>\n",
              "      <td>55</td>\n",
              "      <td>55</td>\n",
              "    </tr>\n",
              "    <tr>\n",
              "      <th>997</th>\n",
              "      <td>female</td>\n",
              "      <td>group C</td>\n",
              "      <td>high school</td>\n",
              "      <td>free/reduced</td>\n",
              "      <td>completed</td>\n",
              "      <td>59</td>\n",
              "      <td>71</td>\n",
              "      <td>65</td>\n",
              "    </tr>\n",
              "    <tr>\n",
              "      <th>998</th>\n",
              "      <td>female</td>\n",
              "      <td>group D</td>\n",
              "      <td>some college</td>\n",
              "      <td>standard</td>\n",
              "      <td>completed</td>\n",
              "      <td>68</td>\n",
              "      <td>78</td>\n",
              "      <td>77</td>\n",
              "    </tr>\n",
              "    <tr>\n",
              "      <th>999</th>\n",
              "      <td>female</td>\n",
              "      <td>group D</td>\n",
              "      <td>some college</td>\n",
              "      <td>free/reduced</td>\n",
              "      <td>none</td>\n",
              "      <td>77</td>\n",
              "      <td>86</td>\n",
              "      <td>86</td>\n",
              "    </tr>\n",
              "  </tbody>\n",
              "</table>\n",
              "<p>1000 rows × 8 columns</p>\n",
              "</div>"
            ],
            "text/plain": [
              "     gender race/ethnicity parental level of education         lunch  \\\n",
              "0    female        group B           bachelor's degree      standard   \n",
              "1    female        group C                some college      standard   \n",
              "2    female        group B             master's degree      standard   \n",
              "3      male        group A          associate's degree  free/reduced   \n",
              "4      male        group C                some college      standard   \n",
              "..      ...            ...                         ...           ...   \n",
              "995  female        group E             master's degree      standard   \n",
              "996    male        group C                 high school  free/reduced   \n",
              "997  female        group C                 high school  free/reduced   \n",
              "998  female        group D                some college      standard   \n",
              "999  female        group D                some college  free/reduced   \n",
              "\n",
              "    test preparation course  math score  reading score  writing score  \n",
              "0                      none          72             72             74  \n",
              "1                 completed          69             90             88  \n",
              "2                      none          90             95             93  \n",
              "3                      none          47             57             44  \n",
              "4                      none          76             78             75  \n",
              "..                      ...         ...            ...            ...  \n",
              "995               completed          88             99             95  \n",
              "996                    none          62             55             55  \n",
              "997               completed          59             71             65  \n",
              "998               completed          68             78             77  \n",
              "999                    none          77             86             86  \n",
              "\n",
              "[1000 rows x 8 columns]"
            ]
          },
          "execution_count": 9,
          "metadata": {},
          "output_type": "execute_result"
        }
      ],
      "source": [
        "df"
      ]
    },
    {
      "cell_type": "code",
      "execution_count": null,
      "metadata": {
        "id": "qEjfndJjel-k"
      },
      "outputs": [],
      "source": [
        "#math score is dependent data\n",
        "y = df['math score']"
      ]
    },
    {
      "cell_type": "code",
      "execution_count": null,
      "metadata": {
        "colab": {
          "base_uri": "https://localhost:8080/",
          "height": 458
        },
        "id": "YsLAjnZqe3hI",
        "outputId": "a61a8349-bea2-4f10-9a71-7f47b4c98e72"
      },
      "outputs": [
        {
          "data": {
            "text/plain": [
              "0      72\n",
              "1      69\n",
              "2      90\n",
              "3      47\n",
              "4      76\n",
              "       ..\n",
              "995    88\n",
              "996    62\n",
              "997    59\n",
              "998    68\n",
              "999    77\n",
              "Name: math score, Length: 1000, dtype: int64"
            ]
          },
          "execution_count": 14,
          "metadata": {},
          "output_type": "execute_result"
        }
      ],
      "source": [
        "y"
      ]
    },
    {
      "cell_type": "code",
      "execution_count": null,
      "metadata": {
        "id": "nxTcZS-Le4H8"
      },
      "outputs": [],
      "source": [
        "x = df.drop(columns=['math score'])"
      ]
    },
    {
      "cell_type": "code",
      "execution_count": null,
      "metadata": {
        "colab": {
          "base_uri": "https://localhost:8080/",
          "height": 458
        },
        "id": "AvR4MLXge6Kf",
        "outputId": "5101b7f0-e315-448a-b0de-6a538eaa7458"
      },
      "outputs": [
        {
          "data": {
            "text/html": [
              "<div>\n",
              "<style scoped>\n",
              "    .dataframe tbody tr th:only-of-type {\n",
              "        vertical-align: middle;\n",
              "    }\n",
              "\n",
              "    .dataframe tbody tr th {\n",
              "        vertical-align: top;\n",
              "    }\n",
              "\n",
              "    .dataframe thead th {\n",
              "        text-align: right;\n",
              "    }\n",
              "</style>\n",
              "<table border=\"1\" class=\"dataframe\">\n",
              "  <thead>\n",
              "    <tr style=\"text-align: right;\">\n",
              "      <th></th>\n",
              "      <th>gender</th>\n",
              "      <th>race/ethnicity</th>\n",
              "      <th>parental level of education</th>\n",
              "      <th>lunch</th>\n",
              "      <th>test preparation course</th>\n",
              "      <th>reading score</th>\n",
              "      <th>writing score</th>\n",
              "    </tr>\n",
              "  </thead>\n",
              "  <tbody>\n",
              "    <tr>\n",
              "      <th>0</th>\n",
              "      <td>female</td>\n",
              "      <td>group B</td>\n",
              "      <td>bachelor's degree</td>\n",
              "      <td>standard</td>\n",
              "      <td>none</td>\n",
              "      <td>72</td>\n",
              "      <td>74</td>\n",
              "    </tr>\n",
              "    <tr>\n",
              "      <th>1</th>\n",
              "      <td>female</td>\n",
              "      <td>group C</td>\n",
              "      <td>some college</td>\n",
              "      <td>standard</td>\n",
              "      <td>completed</td>\n",
              "      <td>90</td>\n",
              "      <td>88</td>\n",
              "    </tr>\n",
              "    <tr>\n",
              "      <th>2</th>\n",
              "      <td>female</td>\n",
              "      <td>group B</td>\n",
              "      <td>master's degree</td>\n",
              "      <td>standard</td>\n",
              "      <td>none</td>\n",
              "      <td>95</td>\n",
              "      <td>93</td>\n",
              "    </tr>\n",
              "    <tr>\n",
              "      <th>3</th>\n",
              "      <td>male</td>\n",
              "      <td>group A</td>\n",
              "      <td>associate's degree</td>\n",
              "      <td>free/reduced</td>\n",
              "      <td>none</td>\n",
              "      <td>57</td>\n",
              "      <td>44</td>\n",
              "    </tr>\n",
              "    <tr>\n",
              "      <th>4</th>\n",
              "      <td>male</td>\n",
              "      <td>group C</td>\n",
              "      <td>some college</td>\n",
              "      <td>standard</td>\n",
              "      <td>none</td>\n",
              "      <td>78</td>\n",
              "      <td>75</td>\n",
              "    </tr>\n",
              "    <tr>\n",
              "      <th>...</th>\n",
              "      <td>...</td>\n",
              "      <td>...</td>\n",
              "      <td>...</td>\n",
              "      <td>...</td>\n",
              "      <td>...</td>\n",
              "      <td>...</td>\n",
              "      <td>...</td>\n",
              "    </tr>\n",
              "    <tr>\n",
              "      <th>995</th>\n",
              "      <td>female</td>\n",
              "      <td>group E</td>\n",
              "      <td>master's degree</td>\n",
              "      <td>standard</td>\n",
              "      <td>completed</td>\n",
              "      <td>99</td>\n",
              "      <td>95</td>\n",
              "    </tr>\n",
              "    <tr>\n",
              "      <th>996</th>\n",
              "      <td>male</td>\n",
              "      <td>group C</td>\n",
              "      <td>high school</td>\n",
              "      <td>free/reduced</td>\n",
              "      <td>none</td>\n",
              "      <td>55</td>\n",
              "      <td>55</td>\n",
              "    </tr>\n",
              "    <tr>\n",
              "      <th>997</th>\n",
              "      <td>female</td>\n",
              "      <td>group C</td>\n",
              "      <td>high school</td>\n",
              "      <td>free/reduced</td>\n",
              "      <td>completed</td>\n",
              "      <td>71</td>\n",
              "      <td>65</td>\n",
              "    </tr>\n",
              "    <tr>\n",
              "      <th>998</th>\n",
              "      <td>female</td>\n",
              "      <td>group D</td>\n",
              "      <td>some college</td>\n",
              "      <td>standard</td>\n",
              "      <td>completed</td>\n",
              "      <td>78</td>\n",
              "      <td>77</td>\n",
              "    </tr>\n",
              "    <tr>\n",
              "      <th>999</th>\n",
              "      <td>female</td>\n",
              "      <td>group D</td>\n",
              "      <td>some college</td>\n",
              "      <td>free/reduced</td>\n",
              "      <td>none</td>\n",
              "      <td>86</td>\n",
              "      <td>86</td>\n",
              "    </tr>\n",
              "  </tbody>\n",
              "</table>\n",
              "<p>1000 rows × 7 columns</p>\n",
              "</div>"
            ],
            "text/plain": [
              "     gender race/ethnicity parental level of education         lunch  \\\n",
              "0    female        group B           bachelor's degree      standard   \n",
              "1    female        group C                some college      standard   \n",
              "2    female        group B             master's degree      standard   \n",
              "3      male        group A          associate's degree  free/reduced   \n",
              "4      male        group C                some college      standard   \n",
              "..      ...            ...                         ...           ...   \n",
              "995  female        group E             master's degree      standard   \n",
              "996    male        group C                 high school  free/reduced   \n",
              "997  female        group C                 high school  free/reduced   \n",
              "998  female        group D                some college      standard   \n",
              "999  female        group D                some college  free/reduced   \n",
              "\n",
              "    test preparation course  reading score  writing score  \n",
              "0                      none             72             74  \n",
              "1                 completed             90             88  \n",
              "2                      none             95             93  \n",
              "3                      none             57             44  \n",
              "4                      none             78             75  \n",
              "..                      ...            ...            ...  \n",
              "995               completed             99             95  \n",
              "996                    none             55             55  \n",
              "997               completed             71             65  \n",
              "998               completed             78             77  \n",
              "999                    none             86             86  \n",
              "\n",
              "[1000 rows x 7 columns]"
            ]
          },
          "execution_count": 16,
          "metadata": {},
          "output_type": "execute_result"
        }
      ],
      "source": [
        "x"
      ]
    },
    {
      "cell_type": "code",
      "execution_count": null,
      "metadata": {
        "id": "VjLL879Ce67T"
      },
      "outputs": [],
      "source": [
        "#creat column tree trype of transformer\n",
        "from sklearn.compose import ColumnTransformer\n",
        "#import the one hot standardscale\n",
        "from sklearn.preprocessing import OneHotEncoder, StandardScaler"
      ]
    },
    {
      "cell_type": "code",
      "execution_count": null,
      "metadata": {
        "id": "R_JSelPA8_fw"
      },
      "outputs": [],
      "source": [
        "#numeric and categorical feature\n",
        "num_feature = x.select_dtypes(exclude='object').columns\n",
        "cat_feature = x.select_dtypes(include='object').columns\n",
        "#fit transformation\n",
        "preprocessor = ColumnTransformer([\n",
        "    ('one_hot_encoder', OneHotEncoder( handle_unknown='ignore'), cat_feature),\n",
        "    ('standard_scaler', StandardScaler(), num_feature)\n",
        "])\n"
      ]
    },
    {
      "cell_type": "code",
      "execution_count": null,
      "metadata": {
        "id": "qUWOulin9Hk5"
      },
      "outputs": [],
      "source": [
        "x=preprocessor.fit_transform(x)\n",
        "\n"
      ]
    },
    {
      "cell_type": "code",
      "execution_count": null,
      "metadata": {
        "colab": {
          "base_uri": "https://localhost:8080/"
        },
        "id": "ZoyqYGD4-L7q",
        "outputId": "bb3d938e-0909-413b-ef07-d12122f8cd89"
      },
      "outputs": [
        {
          "data": {
            "text/plain": [
              "array([[ 1.        ,  0.        ,  0.        , ...,  1.        ,\n",
              "         0.19399858,  0.39149181],\n",
              "       [ 1.        ,  0.        ,  0.        , ...,  0.        ,\n",
              "         1.42747598,  1.31326868],\n",
              "       [ 1.        ,  0.        ,  0.        , ...,  1.        ,\n",
              "         1.77010859,  1.64247471],\n",
              "       ...,\n",
              "       [ 1.        ,  0.        ,  0.        , ...,  0.        ,\n",
              "         0.12547206, -0.20107904],\n",
              "       [ 1.        ,  0.        ,  0.        , ...,  0.        ,\n",
              "         0.60515772,  0.58901542],\n",
              "       [ 1.        ,  0.        ,  0.        , ...,  1.        ,\n",
              "         1.15336989,  1.18158627]], shape=(1000, 19))"
            ]
          },
          "execution_count": 20,
          "metadata": {},
          "output_type": "execute_result"
        }
      ],
      "source": [
        "x"
      ]
    },
    {
      "cell_type": "code",
      "execution_count": null,
      "metadata": {
        "colab": {
          "base_uri": "https://localhost:8080/"
        },
        "id": "K4S93MBX4Un4",
        "outputId": "47d2dc44-8192-4519-c53e-fb38acf2bdaf"
      },
      "outputs": [
        {
          "data": {
            "text/plain": [
              "(1000, 19)"
            ]
          },
          "execution_count": 21,
          "metadata": {},
          "output_type": "execute_result"
        }
      ],
      "source": [
        "x.shape"
      ]
    },
    {
      "cell_type": "code",
      "execution_count": null,
      "metadata": {
        "id": "4qYvScIm4qo7"
      },
      "outputs": [],
      "source": [
        "#split into trauin and test split\n",
        "from sklearn.model_selection import train_test_split\n",
        "X_train, X_test, y_train, y_test = train_test_split(x, y, test_size=0.3, random_state=101)"
      ]
    },
    {
      "cell_type": "code",
      "execution_count": null,
      "metadata": {
        "id": "QTfuQJNq-JjX"
      },
      "outputs": [],
      "source": [
        "#ccreate evalute function\n",
        "from sklearn.metrics import r2_score, mean_absolute_error, mean_squared_error\n",
        "def evaluate_model(true, predicted):\n",
        "    mae = mean_absolute_error(true, predicted)\n",
        "    mse = mean_squared_error(true, predicted)\n",
        "    rmse = np.sqrt(mean_squared_error(true, predicted))\n",
        "    r2_square = r2_score(true, predicted)\n",
        "    return mae, rmse, r2_square"
      ]
    },
    {
      "cell_type": "code",
      "execution_count": null,
      "metadata": {
        "colab": {
          "base_uri": "https://localhost:8080/"
        },
        "id": "U8mfXzJr-vej",
        "outputId": "8a4d5b15-337f-48f0-bfa1-dd142688290a"
      },
      "outputs": [
        {
          "name": "stdout",
          "output_type": "stream",
          "text": [
            "LinearRegression\n",
            "Model performance for Training set\n",
            "- Root Mean Squared Error: 5.3535\n",
            "- Mean Absolute Error: 4.2423\n",
            "- R2 Score: 0.8824\n",
            "----------------------------------\n",
            "Model performance for Test set\n",
            "- Root Mean Squared Error: 5.3313\n",
            "- Mean Absolute Error: 4.2908\n",
            "- R2 Score: 0.8559\n",
            "===================================\n",
            "\n",
            "\n",
            "Lasso\n",
            "Model performance for Training set\n",
            "- Root Mean Squared Error: 6.5659\n",
            "- Mean Absolute Error: 5.2014\n",
            "- R2 Score: 0.8230\n",
            "----------------------------------\n",
            "Model performance for Test set\n",
            "- Root Mean Squared Error: 5.8839\n",
            "- Mean Absolute Error: 4.6271\n",
            "- R2 Score: 0.8244\n",
            "===================================\n",
            "\n",
            "\n",
            "Ridge\n",
            "Model performance for Training set\n",
            "- Root Mean Squared Error: 5.3538\n",
            "- Mean Absolute Error: 4.2426\n",
            "- R2 Score: 0.8823\n",
            "----------------------------------\n",
            "Model performance for Test set\n",
            "- Root Mean Squared Error: 5.3276\n",
            "- Mean Absolute Error: 4.2858\n",
            "- R2 Score: 0.8561\n",
            "===================================\n",
            "\n",
            "\n",
            "KNeighborsRegressor\n",
            "Model performance for Training set\n",
            "- Root Mean Squared Error: 5.8719\n",
            "- Mean Absolute Error: 4.6809\n",
            "- R2 Score: 0.8585\n",
            "----------------------------------\n",
            "Model performance for Test set\n",
            "- Root Mean Squared Error: 6.9014\n",
            "- Mean Absolute Error: 5.6020\n",
            "- R2 Score: 0.7585\n",
            "===================================\n",
            "\n",
            "\n",
            "DecisionTreeRegressor\n",
            "Model performance for Training set\n",
            "- Root Mean Squared Error: 0.0000\n",
            "- Mean Absolute Error: 0.0000\n",
            "- R2 Score: 1.0000\n",
            "----------------------------------\n",
            "Model performance for Test set\n",
            "- Root Mean Squared Error: 8.1263\n",
            "- Mean Absolute Error: 6.3500\n",
            "- R2 Score: 0.6651\n",
            "===================================\n",
            "\n",
            "\n",
            "RandomForestRegressor\n",
            "Model performance for Training set\n",
            "- Root Mean Squared Error: 2.3229\n",
            "- Mean Absolute Error: 1.8249\n",
            "- R2 Score: 0.9779\n",
            "----------------------------------\n",
            "Model performance for Test set\n",
            "- Root Mean Squared Error: 6.1479\n",
            "- Mean Absolute Error: 4.9746\n",
            "- R2 Score: 0.8083\n",
            "===================================\n",
            "\n",
            "\n",
            "adaBoostRegressor\n",
            "Model performance for Training set\n",
            "- Root Mean Squared Error: 5.8287\n",
            "- Mean Absolute Error: 4.7048\n",
            "- R2 Score: 0.8605\n",
            "----------------------------------\n",
            "Model performance for Test set\n",
            "- Root Mean Squared Error: 6.0640\n",
            "- Mean Absolute Error: 4.9865\n",
            "- R2 Score: 0.8135\n",
            "===================================\n",
            "\n",
            "\n",
            "SVR\n",
            "Model performance for Training set\n",
            "- Root Mean Squared Error: 7.2270\n",
            "- Mean Absolute Error: 5.1048\n",
            "- R2 Score: 0.7856\n",
            "----------------------------------\n",
            "Model performance for Test set\n",
            "- Root Mean Squared Error: 6.4199\n",
            "- Mean Absolute Error: 4.9416\n",
            "- R2 Score: 0.7910\n",
            "===================================\n",
            "\n",
            "\n"
          ]
        }
      ],
      "source": [
        "models={\n",
        "    'LinearRegression':LinearRegression(),\n",
        "    'Lasso':Lasso(),\n",
        "    'Ridge':Ridge(),\n",
        "    'KNeighborsRegressor':KNeighborsRegressor(),\n",
        "    'DecisionTreeRegressor':DecisionTreeRegressor(),\n",
        "    'RandomForestRegressor':RandomForestRegressor(),\n",
        "    'adaBoostRegressor':AdaBoostRegressor(),\n",
        "    'SVR':SVR(),\n",
        "    # 'CatBoostRegressor':CatBoostRegressor(verbose=False),\n",
        "    # 'XGBRegressor':XGBRegressor()\n",
        "}\n",
        "model_list=[]\n",
        "r2_list=[]\n",
        "for i in range(len(list(models))):\n",
        "    model=list(models.values())[i]\n",
        "    model.fit(X_train,y_train)\n",
        "    y_train_pred=model.predict(X_train)\n",
        "    y_test_pred=model.predict(X_test)\n",
        "    model_train_mae, model_train_rmse, model_train_r2 = evaluate_model(y_train, y_train_pred)\n",
        "    model_test_mae, model_test_rmse, model_test_r2 = evaluate_model(y_test, y_test_pred)\n",
        "    model_list.append(list(models.keys())[i])\n",
        "    print(list(models.keys())[i])\n",
        "    r2_list.append(model_test_r2)\n",
        "    print('Model performance for Training set')\n",
        "    print(\"- Root Mean Squared Error: {:.4f}\".format(model_train_rmse))\n",
        "    print(\"- Mean Absolute Error: {:.4f}\".format(model_train_mae))\n",
        "    print(\"- R2 Score: {:.4f}\".format(model_train_r2))\n",
        "    print('----------------------------------')\n",
        "    print('Model performance for Test set')\n",
        "    print(\"- Root Mean Squared Error: {:.4f}\".format(model_test_rmse))\n",
        "    print(\"- Mean Absolute Error: {:.4f}\".format(model_test_mae))\n",
        "    print(\"- R2 Score: {:.4f}\".format(model_test_r2))\n",
        "    print('='*35)\n",
        "    print('\\n')\n"
      ]
    },
    {
      "cell_type": "code",
      "execution_count": null,
      "metadata": {
        "colab": {
          "base_uri": "https://localhost:8080/",
          "height": 363
        },
        "id": "JEVCy-lh-y9S",
        "outputId": "1e724e3b-909d-4bd0-b1ca-a914bc8d434e"
      },
      "outputs": [
        {
          "data": {
            "text/html": [
              "<div>\n",
              "<style scoped>\n",
              "    .dataframe tbody tr th:only-of-type {\n",
              "        vertical-align: middle;\n",
              "    }\n",
              "\n",
              "    .dataframe tbody tr th {\n",
              "        vertical-align: top;\n",
              "    }\n",
              "\n",
              "    .dataframe thead th {\n",
              "        text-align: right;\n",
              "    }\n",
              "</style>\n",
              "<table border=\"1\" class=\"dataframe\">\n",
              "  <thead>\n",
              "    <tr style=\"text-align: right;\">\n",
              "      <th></th>\n",
              "      <th>Model Name</th>\n",
              "      <th>R2_Score</th>\n",
              "    </tr>\n",
              "  </thead>\n",
              "  <tbody>\n",
              "    <tr>\n",
              "      <th>2</th>\n",
              "      <td>Ridge</td>\n",
              "      <td>0.856059</td>\n",
              "    </tr>\n",
              "    <tr>\n",
              "      <th>0</th>\n",
              "      <td>LinearRegression</td>\n",
              "      <td>0.855858</td>\n",
              "    </tr>\n",
              "    <tr>\n",
              "      <th>1</th>\n",
              "      <td>Lasso</td>\n",
              "      <td>0.824431</td>\n",
              "    </tr>\n",
              "    <tr>\n",
              "      <th>6</th>\n",
              "      <td>adaBoostRegressor</td>\n",
              "      <td>0.813520</td>\n",
              "    </tr>\n",
              "    <tr>\n",
              "      <th>5</th>\n",
              "      <td>RandomForestRegressor</td>\n",
              "      <td>0.808322</td>\n",
              "    </tr>\n",
              "    <tr>\n",
              "      <th>7</th>\n",
              "      <td>SVR</td>\n",
              "      <td>0.790984</td>\n",
              "    </tr>\n",
              "    <tr>\n",
              "      <th>3</th>\n",
              "      <td>KNeighborsRegressor</td>\n",
              "      <td>0.758462</td>\n",
              "    </tr>\n",
              "    <tr>\n",
              "      <th>4</th>\n",
              "      <td>DecisionTreeRegressor</td>\n",
              "      <td>0.665110</td>\n",
              "    </tr>\n",
              "  </tbody>\n",
              "</table>\n",
              "</div>"
            ],
            "text/plain": [
              "              Model Name  R2_Score\n",
              "2                  Ridge  0.856059\n",
              "0       LinearRegression  0.855858\n",
              "1                  Lasso  0.824431\n",
              "6      adaBoostRegressor  0.813520\n",
              "5  RandomForestRegressor  0.808322\n",
              "7                    SVR  0.790984\n",
              "3    KNeighborsRegressor  0.758462\n",
              "4  DecisionTreeRegressor  0.665110"
            ]
          },
          "execution_count": 26,
          "metadata": {},
          "output_type": "execute_result"
        }
      ],
      "source": [
        "#display all the value of r_2scaore of different model\n",
        "pd.DataFrame(list(zip(model_list, r2_list)), columns=['Model Name', 'R2_Score']).sort_values(by=[\"R2_Score\"],ascending=False)\n"
      ]
    },
    {
      "cell_type": "code",
      "execution_count": null,
      "metadata": {
        "colab": {
          "base_uri": "https://localhost:8080/",
          "height": 363
        },
        "id": "PukcozqsATal",
        "outputId": "f3b5f748-60bc-4bd3-e184-5d89c4f252ed"
      },
      "outputs": [
        {
          "data": {
            "text/html": [
              "<div>\n",
              "<style scoped>\n",
              "    .dataframe tbody tr th:only-of-type {\n",
              "        vertical-align: middle;\n",
              "    }\n",
              "\n",
              "    .dataframe tbody tr th {\n",
              "        vertical-align: top;\n",
              "    }\n",
              "\n",
              "    .dataframe thead th {\n",
              "        text-align: right;\n",
              "    }\n",
              "</style>\n",
              "<table border=\"1\" class=\"dataframe\">\n",
              "  <thead>\n",
              "    <tr style=\"text-align: right;\">\n",
              "      <th></th>\n",
              "      <th>Model Name</th>\n",
              "      <th>R2_Score</th>\n",
              "    </tr>\n",
              "  </thead>\n",
              "  <tbody>\n",
              "    <tr>\n",
              "      <th>2</th>\n",
              "      <td>Ridge</td>\n",
              "      <td>0.856059</td>\n",
              "    </tr>\n",
              "    <tr>\n",
              "      <th>0</th>\n",
              "      <td>LinearRegression</td>\n",
              "      <td>0.855858</td>\n",
              "    </tr>\n",
              "    <tr>\n",
              "      <th>1</th>\n",
              "      <td>Lasso</td>\n",
              "      <td>0.824431</td>\n",
              "    </tr>\n",
              "    <tr>\n",
              "      <th>6</th>\n",
              "      <td>adaBoostRegressor</td>\n",
              "      <td>0.813520</td>\n",
              "    </tr>\n",
              "    <tr>\n",
              "      <th>5</th>\n",
              "      <td>RandomForestRegressor</td>\n",
              "      <td>0.808322</td>\n",
              "    </tr>\n",
              "    <tr>\n",
              "      <th>7</th>\n",
              "      <td>SVR</td>\n",
              "      <td>0.790984</td>\n",
              "    </tr>\n",
              "    <tr>\n",
              "      <th>3</th>\n",
              "      <td>KNeighborsRegressor</td>\n",
              "      <td>0.758462</td>\n",
              "    </tr>\n",
              "    <tr>\n",
              "      <th>4</th>\n",
              "      <td>DecisionTreeRegressor</td>\n",
              "      <td>0.665110</td>\n",
              "    </tr>\n",
              "  </tbody>\n",
              "</table>\n",
              "</div>"
            ],
            "text/plain": [
              "              Model Name  R2_Score\n",
              "2                  Ridge  0.856059\n",
              "0       LinearRegression  0.855858\n",
              "1                  Lasso  0.824431\n",
              "6      adaBoostRegressor  0.813520\n",
              "5  RandomForestRegressor  0.808322\n",
              "7                    SVR  0.790984\n",
              "3    KNeighborsRegressor  0.758462\n",
              "4  DecisionTreeRegressor  0.665110"
            ]
          },
          "execution_count": 27,
          "metadata": {},
          "output_type": "execute_result"
        }
      ],
      "source": [
        "#same for accuracy od =f model\n",
        "pd.DataFrame(list(zip(model_list, r2_list)), columns=['Model Name', 'R2_Score']).sort_values(by=[\"R2_Score\"],ascending=False)"
      ]
    },
    {
      "cell_type": "code",
      "execution_count": null,
      "metadata": {
        "colab": {
          "base_uri": "https://localhost:8080/"
        },
        "id": "j8t6BSm5AZdx",
        "outputId": "03ce9b44-c010-46a1-e569-8396c06fa450"
      },
      "outputs": [
        {
          "name": "stdout",
          "output_type": "stream",
          "text": [
            "R2 score of the model is 85.59\n"
          ]
        }
      ],
      "source": [
        "#linear regression\n",
        "lin_model=LinearRegression(fit_intercept=True)\n",
        "lin_model=lin_model.fit(X_train,y_train)\n",
        "y_pred=lin_model.predict(X_test)\n",
        "score=r2_score(y_test,y_pred)*100\n",
        "print(\"R2 score of the model is %.2f\" %score)\n",
        "#"
      ]
    },
    {
      "cell_type": "code",
      "execution_count": null,
      "metadata": {
        "colab": {
          "base_uri": "https://localhost:8080/",
          "height": 449
        },
        "id": "Zs4DMqHqDx6w",
        "outputId": "a0059058-bc42-4d74-dab0-1354ee1ab0ea"
      },
      "outputs": [
        {
          "data": {
            "image/png": "[encoded data removed]",
            "text/plain": [
              "<Figure size 640x480 with 1 Axes>"
            ]
          },
          "metadata": {},
          "output_type": "display_data"
        }
      ],
      "source": [
        "#plot prediction\n",
        "plt.scatter(y_test,y_pred);\n",
        "plt.xlabel('Actual');\n",
        "plt.ylabel('Predicted');"
      ]
    },
    {
      "cell_type": "code",
      "execution_count": null,
      "metadata": {
        "colab": {
          "base_uri": "https://localhost:8080/",
          "height": 423
        },
        "id": "0ua8IFnkEPDX",
        "outputId": "42a43f1e-17c7-426d-f5eb-d8d28550c3fc"
      },
      "outputs": [
        {
          "data": {
            "text/html": [
              "<div>\n",
              "<style scoped>\n",
              "    .dataframe tbody tr th:only-of-type {\n",
              "        vertical-align: middle;\n",
              "    }\n",
              "\n",
              "    .dataframe tbody tr th {\n",
              "        vertical-align: top;\n",
              "    }\n",
              "\n",
              "    .dataframe thead th {\n",
              "        text-align: right;\n",
              "    }\n",
              "</style>\n",
              "<table border=\"1\" class=\"dataframe\">\n",
              "  <thead>\n",
              "    <tr style=\"text-align: right;\">\n",
              "      <th></th>\n",
              "      <th>Actual value</th>\n",
              "      <th>Predicted value</th>\n",
              "      <th>Difference</th>\n",
              "    </tr>\n",
              "  </thead>\n",
              "  <tbody>\n",
              "    <tr>\n",
              "      <th>545</th>\n",
              "      <td>78</td>\n",
              "      <td>85.443718</td>\n",
              "      <td>-7.443718</td>\n",
              "    </tr>\n",
              "    <tr>\n",
              "      <th>298</th>\n",
              "      <td>40</td>\n",
              "      <td>49.182153</td>\n",
              "      <td>-9.182153</td>\n",
              "    </tr>\n",
              "    <tr>\n",
              "      <th>109</th>\n",
              "      <td>70</td>\n",
              "      <td>64.118669</td>\n",
              "      <td>5.881331</td>\n",
              "    </tr>\n",
              "    <tr>\n",
              "      <th>837</th>\n",
              "      <td>75</td>\n",
              "      <td>68.294034</td>\n",
              "      <td>6.705966</td>\n",
              "    </tr>\n",
              "    <tr>\n",
              "      <th>194</th>\n",
              "      <td>69</td>\n",
              "      <td>72.158572</td>\n",
              "      <td>-3.158572</td>\n",
              "    </tr>\n",
              "    <tr>\n",
              "      <th>...</th>\n",
              "      <td>...</td>\n",
              "      <td>...</td>\n",
              "      <td>...</td>\n",
              "    </tr>\n",
              "    <tr>\n",
              "      <th>847</th>\n",
              "      <td>64</td>\n",
              "      <td>58.573034</td>\n",
              "      <td>5.426966</td>\n",
              "    </tr>\n",
              "    <tr>\n",
              "      <th>682</th>\n",
              "      <td>62</td>\n",
              "      <td>62.712889</td>\n",
              "      <td>-0.712889</td>\n",
              "    </tr>\n",
              "    <tr>\n",
              "      <th>884</th>\n",
              "      <td>51</td>\n",
              "      <td>50.837658</td>\n",
              "      <td>0.162342</td>\n",
              "    </tr>\n",
              "    <tr>\n",
              "      <th>325</th>\n",
              "      <td>82</td>\n",
              "      <td>84.977418</td>\n",
              "      <td>-2.977418</td>\n",
              "    </tr>\n",
              "    <tr>\n",
              "      <th>482</th>\n",
              "      <td>68</td>\n",
              "      <td>66.314930</td>\n",
              "      <td>1.685070</td>\n",
              "    </tr>\n",
              "  </tbody>\n",
              "</table>\n",
              "<p>300 rows × 3 columns</p>\n",
              "</div>"
            ],
            "text/plain": [
              "     Actual value  Predicted value  Difference\n",
              "545            78        85.443718   -7.443718\n",
              "298            40        49.182153   -9.182153\n",
              "109            70        64.118669    5.881331\n",
              "837            75        68.294034    6.705966\n",
              "194            69        72.158572   -3.158572\n",
              "..            ...              ...         ...\n",
              "847            64        58.573034    5.426966\n",
              "682            62        62.712889   -0.712889\n",
              "884            51        50.837658    0.162342\n",
              "325            82        84.977418   -2.977418\n",
              "482            68        66.314930    1.685070\n",
              "\n",
              "[300 rows x 3 columns]"
            ]
          },
          "execution_count": 30,
          "metadata": {},
          "output_type": "execute_result"
        }
      ],
      "source": [
        "#difference between the actual and prediction\n",
        "pred_diff=pd.DataFrame({'Actual value':y_test,'Predicted value':y_pred,'Difference':y_test-y_pred})\n",
        "pred_diff"
      ]
    },
    {
      "cell_type": "code",
      "execution_count": 12,
      "metadata": {
        "id": "tYT5OvFmEYSM"
      },
      "outputs": [
        {
          "data": {
            "text/plain": [
              "(1000, 8)"
            ]
          },
          "execution_count": 12,
          "metadata": {},
          "output_type": "execute_result"
        }
      ],
      "source": [
        "df.shape"
      ]
    },
    {
      "cell_type": "code",
      "execution_count": null,
      "metadata": {},
      "outputs": [],
      "source": []
    }
  ],
  "metadata": {
    "colab": {
      "provenance": []
    },
    "kernelspec": {
      "display_name": ".venv",
      "language": "python",
      "name": "python3"
    },
    "language_info": {
      "codemirror_mode": {
        "name": "ipython",
        "version": 3
      },
      "file_extension": ".py",
      "mimetype": "text/x-python",
      "name": "python",
      "nbconvert_exporter": "python",
      "pygments_lexer": "ipython3",
      "version": "3.13.1"
    }
  },
  "nbformat": 4,
  "nbformat_minor": 0
}
